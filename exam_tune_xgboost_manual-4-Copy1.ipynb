{
 "cells": [
  {
   "cell_type": "code",
   "execution_count": 2,
   "id": "97d16961",
   "metadata": {},
   "outputs": [],
   "source": [
    "import warnings\n",
    "warnings.simplefilter(action='ignore')"
   ]
  },
  {
   "cell_type": "code",
   "execution_count": 1,
   "id": "f0d40b98",
   "metadata": {},
   "outputs": [],
   "source": [
    "import pandas as pd\n",
    "import numpy as np\n",
    "\n",
    "from sklearn.model_selection import train_test_split\n",
    "from sklearn.model_selection import cross_val_score\n",
    "\n",
    "from sklearn.preprocessing import OneHotEncoder\n",
    "from sklearn.compose import make_column_transformer\n",
    "\n",
    "from sklearn.preprocessing import StandardScaler as scaler\n",
    "\n",
    "from sklearn.metrics import mean_absolute_error as mae\n",
    "from sklearn.metrics import mean_squared_error as mse\n",
    "from sklearn.metrics import accuracy_score, roc_auc_score\n",
    "from sklearn.metrics import balanced_accuracy_score, f1_score\n",
    "\n",
    "# from sklearn import cross_validation\n",
    "\n",
    "from sklearn.metrics import classification_report\n",
    "\n",
    "from sklearn.metrics import RocCurveDisplay, PrecisionRecallDisplay\n",
    "\n",
    "\n",
    "from imblearn.over_sampling import SMOTE\n",
    "\n",
    "rand_state = 481516\n",
    "\n",
    "\n",
    "from sklearn.model_selection  import GridSearchCV\n",
    "\n",
    "import xgboost as xgb\n",
    "\n",
    "import matplotlib.pyplot as plt"
   ]
  },
  {
   "cell_type": "code",
   "execution_count": null,
   "id": "68a7fbfe",
   "metadata": {},
   "outputs": [],
   "source": []
  },
  {
   "cell_type": "markdown",
   "id": "541abaf2",
   "metadata": {},
   "source": [
    "Другой датасет"
   ]
  },
  {
   "cell_type": "code",
   "execution_count": 2,
   "id": "7cec9660",
   "metadata": {},
   "outputs": [],
   "source": [
    "df = pd.read_csv('data_cat_to_int2.csv', index_col=0)\n",
    "# df.iloc[488,19] = '0'\n",
    "data = df.drop(columns = ['Churn'])\n",
    "target = df['Churn']"
   ]
  },
  {
   "cell_type": "code",
   "execution_count": null,
   "id": "0a27c4fe",
   "metadata": {},
   "outputs": [],
   "source": []
  },
  {
   "cell_type": "code",
   "execution_count": 3,
   "id": "b32e071f",
   "metadata": {},
   "outputs": [],
   "source": [
    "def modelfit(alg, X_train, y_train, X_test, y_test, useTrainCV=True, cv_folds=5, early_stopping_rounds=50):\n",
    "    \n",
    "    if useTrainCV:\n",
    "        xgb_param = alg.get_xgb_params()\n",
    "        xgtrain = xgb.DMatrix(X_train.values, label=y_train.values)\n",
    "        xgtest = xgb.DMatrix(X_test.values)\n",
    "        cvresult = xgb.cv(xgb_param, xgtrain, num_boost_round=alg.get_params()['n_estimators'], nfold=cv_folds,\n",
    "            early_stopping_rounds=early_stopping_rounds)\n",
    "        alg.set_params(n_estimators=cvresult.shape[0])\n",
    "    \n",
    "    #Fit the algorithm on the data\n",
    "    print(f'n_estimators = {cvresult.shape[0]}')\n",
    "    alg.fit(X_train, y_train,eval_metric='aucpr')\n",
    "        \n",
    "    #Predict training set:\n",
    "    X_train_predictions = alg.predict(X_train)\n",
    "    X_train_predprob = alg.predict_proba(X_train)[:,1]\n",
    "        \n",
    "    #Print model report:\n",
    "    print (\"\\nModel Report\")\n",
    "    print (\"Accuracy : %.4g\" % accuracy_score(y_train, X_train_predictions))\n",
    "    print (\"AUC Score (Train): %f\" % roc_auc_score(y_train, X_train_predprob))\n",
    "    print (\"balanced_accuracy_score : %.4g\" % balanced_accuracy_score(y_train, X_train_predictions))\n",
    "    print (\"f1_score: %f\" % f1_score(y_train, X_train_predictions))\n",
    "    \n",
    "    return  cvresult.shape[0]\n",
    "#     Predict on testing data:\n",
    "#     dtest['predprob'] = alg.predict_proba(dtest[predictors])[:,1]\n",
    "#     results = test_results.merge(dtest[['ID','predprob']], on='ID')\n",
    "#     print ('AUC Score (Test): %f' % metrics.roc_auc_score(results['Disbursed'], results['predprob']))\n",
    "                \n",
    "#     feat_imp = pd.Series(alg.booster().get_fscore()).sort_values(ascending=False)\n",
    "#     feat_imp.plot(kind='bar', title='Feature Importances')\n",
    "#     plt.ylabel('Feature Importance Score')"
   ]
  },
  {
   "cell_type": "code",
   "execution_count": 4,
   "id": "2d5367ee",
   "metadata": {},
   "outputs": [],
   "source": [
    "X_train, X_test, y_train, y_test = train_test_split(data, target, test_size=0.2, random_state=rand_state)"
   ]
  },
  {
   "cell_type": "markdown",
   "id": "47fd5008",
   "metadata": {},
   "source": [
    "Значения по умолчанию"
   ]
  },
  {
   "cell_type": "code",
   "execution_count": 5,
   "id": "c4c389e5",
   "metadata": {},
   "outputs": [
    {
     "name": "stdout",
     "output_type": "stream",
     "text": [
      "Train:\n",
      "acc = 0.9263400780972666, bal_acc = 0.9121970074610837\n",
      "              precision    recall  f1-score   support\n",
      "\n",
      "           0       0.96      0.94      0.95      4236\n",
      "           1       0.83      0.88      0.86      1398\n",
      "\n",
      "    accuracy                           0.93      5634\n",
      "   macro avg       0.90      0.91      0.90      5634\n",
      "weighted avg       0.93      0.93      0.93      5634\n",
      "\n",
      "Test:\n",
      "acc = 0.7856635911994322, bal_acc = 0.7071965628356606\n",
      "              precision    recall  f1-score   support\n",
      "\n",
      "           0       0.84      0.88      0.86      1029\n",
      "           1       0.62      0.54      0.57       380\n",
      "\n",
      "    accuracy                           0.79      1409\n",
      "   macro avg       0.73      0.71      0.72      1409\n",
      "weighted avg       0.78      0.79      0.78      1409\n",
      "\n",
      "All:\n",
      "acc = 0.8981967911401392, bal_acc = 0.857401279765912\n",
      "              precision    recall  f1-score   support\n",
      "\n",
      "           0       0.92      0.94      0.93      5174\n",
      "           1       0.83      0.77      0.80      1869\n",
      "\n",
      "    accuracy                           0.90      7043\n",
      "   macro avg       0.88      0.86      0.87      7043\n",
      "weighted avg       0.90      0.90      0.90      7043\n",
      "\n"
     ]
    }
   ],
   "source": [
    "xg_reg = xgb.XGBClassifier(use_label_encoder=False, verbosity = 0, silent=True,        \n",
    "        objective= 'binary:logistic',\n",
    "        eval_metric='auc',\n",
    "        seed=27,\n",
    ")\n",
    "\n",
    "\n",
    "clf =  xg_reg\n",
    "\n",
    "clf.fit(X_train, y_train)\n",
    "\n",
    "\n",
    "X_train_pred = clf.predict(X_train)\n",
    "\n",
    "print('Train:')\n",
    "acc, b_acc = accuracy_score(X_train_pred, y_train), balanced_accuracy_score(X_train_pred, y_train)\n",
    "print (f\"acc = {acc}, bal_acc = {b_acc}\")\n",
    "print(classification_report(X_train_pred, y_train))\n",
    "\n",
    "\n",
    "y_pred = clf.predict(X_test)\n",
    "\n",
    "print('Test:')\n",
    "acc, b_acc = accuracy_score(y_test, y_pred), balanced_accuracy_score(y_test, y_pred)\n",
    "print (f\"acc = {acc}, bal_acc = {b_acc}\")\n",
    "print(classification_report(y_test, y_pred))\n",
    "\n",
    "all_pred = clf.predict(data)\n",
    "\n",
    "print('All:')\n",
    "acc, b_acc = accuracy_score(target, all_pred), balanced_accuracy_score(target, all_pred)\n",
    "print (f\"acc = {acc}, bal_acc = {b_acc}\")\n",
    "print(classification_report(target, all_pred))"
   ]
  },
  {
   "cell_type": "code",
   "execution_count": null,
   "id": "73995141",
   "metadata": {},
   "outputs": [],
   "source": []
  },
  {
   "cell_type": "code",
   "execution_count": null,
   "id": "a38bc6c5",
   "metadata": {},
   "outputs": [],
   "source": []
  },
  {
   "cell_type": "code",
   "execution_count": 8,
   "id": "7d9045ad",
   "metadata": {},
   "outputs": [
    {
     "name": "stdout",
     "output_type": "stream",
     "text": [
      "n_estimators = 11\n",
      "\n",
      "Model Report\n",
      "Accuracy : 0.834\n",
      "AUC Score (Train): 0.900873\n",
      "balanced_accuracy_score : 0.7527\n",
      "f1_score: 0.648892\n"
     ]
    }
   ],
   "source": [
    "xgb1 = xgb.XGBClassifier(use_label_encoder=False,\n",
    "        n_estimators=1000,        \n",
    "        objective= 'binary:logistic',\n",
    "        eval_metric='auc',\n",
    "        seed=27,\n",
    "        )\n",
    "\n",
    "n_est = modelfit(xgb1, X_train, y_train, X_test, y_test)"
   ]
  },
  {
   "cell_type": "code",
   "execution_count": 9,
   "id": "638ef10b",
   "metadata": {},
   "outputs": [
    {
     "data": {
      "text/plain": [
       "11"
      ]
     },
     "execution_count": 9,
     "metadata": {},
     "output_type": "execute_result"
    }
   ],
   "source": [
    "n_est"
   ]
  },
  {
   "cell_type": "code",
   "execution_count": 10,
   "id": "7172b8b0",
   "metadata": {
    "scrolled": true
   },
   "outputs": [
    {
     "data": {
      "text/plain": [
       "({'max_depth': 4, 'min_child_weight': 1}, 0.7108384492861626)"
      ]
     },
     "execution_count": 10,
     "metadata": {},
     "output_type": "execute_result"
    }
   ],
   "source": [
    "param_test1 = {\n",
    "    'max_depth':range(3,11,1),\n",
    "    'min_child_weight':range(1,11,2)\n",
    "}\n",
    "\n",
    "estimator = xgb.XGBClassifier(use_label_encoder=False, verbosity = 0, silent=True,                \n",
    "        objective= 'binary:logistic',\n",
    "        eval_metric='auc',        \n",
    "        seed=27,\n",
    "        n_estimators = n_est,\n",
    "                              \n",
    ")\n",
    "\n",
    "\n",
    "gsearch1 = GridSearchCV(estimator = estimator, \n",
    "                        param_grid = param_test1, \n",
    "                        scoring='balanced_accuracy', cv=5)\n",
    "\n",
    "gsearch1.fit(X_train, y_train)\n",
    "gsearch1.best_params_, gsearch1.best_score_"
   ]
  },
  {
   "cell_type": "code",
   "execution_count": 11,
   "id": "876b8265",
   "metadata": {},
   "outputs": [],
   "source": [
    "md = 4\n",
    "mcw = 1"
   ]
  },
  {
   "cell_type": "code",
   "execution_count": 13,
   "id": "28c6d75d",
   "metadata": {},
   "outputs": [
    {
     "data": {
      "text/plain": [
       "({'scale_pos_weight': 3}, 0.7621761776245629)"
      ]
     },
     "execution_count": 13,
     "metadata": {},
     "output_type": "execute_result"
    }
   ],
   "source": [
    "param_test2 = {\n",
    "    'scale_pos_weight':range(1,15),\n",
    "}\n",
    "\n",
    "\n",
    "estimator = xgb.XGBClassifier(use_label_encoder=False, verbosity = 0, silent=True,\n",
    "                              objective= 'binary:logistic',\n",
    "        eval_metric='auc',        \n",
    "        seed=27,\n",
    "        n_estimators = n_est,                              \n",
    "        max_depth = md,\n",
    "        min_child_weight = mcw,\n",
    ")\n",
    "\n",
    "\n",
    "gsearch2 = GridSearchCV(estimator = estimator, \n",
    "                       param_grid = param_test2, \n",
    "                        scoring='balanced_accuracy', cv=5)\n",
    "gsearch2.fit(X_train, y_train)\n",
    "gsearch2.best_params_, gsearch2.best_score_"
   ]
  },
  {
   "cell_type": "code",
   "execution_count": 14,
   "id": "8a313243",
   "metadata": {},
   "outputs": [],
   "source": [
    "spw = 3"
   ]
  },
  {
   "cell_type": "code",
   "execution_count": 18,
   "id": "b296df24",
   "metadata": {},
   "outputs": [
    {
     "data": {
      "text/plain": [
       "({'gamma': 5}, 0.7675047416929364)"
      ]
     },
     "execution_count": 18,
     "metadata": {},
     "output_type": "execute_result"
    }
   ],
   "source": [
    "param_test3 = {\n",
    "    'gamma':range(0,20)\n",
    "}\n",
    "\n",
    "estimator = xgb.XGBClassifier(use_label_encoder=False, verbosity = 0, silent=True,\n",
    "                              objective= 'binary:logistic',\n",
    "        eval_metric='auc',        \n",
    "        seed=27,\n",
    "        n_estimators = n_est,                              \n",
    "        max_depth = md,\n",
    "        min_child_weight = mcw,\n",
    "        scale_pos_weight=spw,\n",
    "        )\n",
    "\n",
    "\n",
    "gsearch3 = GridSearchCV(estimator = estimator, \n",
    "                       param_grid = param_test3, \n",
    "                        scoring='balanced_accuracy', cv=5)\n",
    "gsearch3.fit(X_train, y_train)\n",
    "gsearch3.best_params_, gsearch3.best_score_"
   ]
  },
  {
   "cell_type": "code",
   "execution_count": 19,
   "id": "8fad0746",
   "metadata": {},
   "outputs": [
    {
     "data": {
      "text/plain": [
       "({'gamma': 5.0}, 0.7675047416929364)"
      ]
     },
     "execution_count": 19,
     "metadata": {},
     "output_type": "execute_result"
    }
   ],
   "source": [
    "param_test3b = {\n",
    "    'gamma':[i/10.0 for i in range(45,56)]\n",
    "}\n",
    "\n",
    "estimator = xgb.XGBClassifier(use_label_encoder=False, verbosity = 0, silent=True,\n",
    "                              objective= 'binary:logistic',\n",
    "        eval_metric='auc',        \n",
    "        seed=27,\n",
    "        n_estimators = n_est,                              \n",
    "        max_depth = md,\n",
    "        min_child_weight = mcw,\n",
    "        scale_pos_weight=spw,\n",
    ")\n",
    "\n",
    "\n",
    "gsearch3b = GridSearchCV(estimator = estimator, \n",
    "                       param_grid = param_test3b, \n",
    "                        scoring='balanced_accuracy', cv=5)\n",
    "gsearch3b.fit(X_train, y_train)\n",
    "gsearch3b.best_params_, gsearch3b.best_score_"
   ]
  },
  {
   "cell_type": "code",
   "execution_count": 17,
   "id": "da36728e",
   "metadata": {},
   "outputs": [],
   "source": [
    "gm = 5"
   ]
  },
  {
   "cell_type": "code",
   "execution_count": 21,
   "id": "85695f2a",
   "metadata": {},
   "outputs": [
    {
     "data": {
      "text/plain": [
       "({'colsample_bytree': 1.0, 'subsample': 1.0}, 0.7675047416929364)"
      ]
     },
     "execution_count": 21,
     "metadata": {},
     "output_type": "execute_result"
    }
   ],
   "source": [
    "param_test4 = {\n",
    "    'subsample':[i/10.0 for i in range(4,11)],\n",
    "    'colsample_bytree':[i/10.0 for i in range(4,11)]\n",
    "}\n",
    "\n",
    "estimator = xgb.XGBClassifier(use_label_encoder=False, verbosity = 0, silent=True,\n",
    "                              objective= 'binary:logistic',\n",
    "        eval_metric='auc',        \n",
    "        seed=27,\n",
    "        n_estimators = n_est,                              \n",
    "        max_depth = md,\n",
    "        min_child_weight = mcw,\n",
    "        scale_pos_weight=spw,\n",
    "        gamma = gm,\n",
    ")\n",
    "\n",
    "\n",
    "gsearch4 = GridSearchCV(estimator = estimator, \n",
    "                       param_grid = param_test4, \n",
    "                        scoring='balanced_accuracy', cv=5)\n",
    "gsearch4.fit(X_train, y_train)\n",
    "gsearch4.best_params_, gsearch4.best_score_"
   ]
  },
  {
   "cell_type": "code",
   "execution_count": 22,
   "id": "6363ee54",
   "metadata": {},
   "outputs": [],
   "source": [
    "cb = 1\n",
    "sbs = 1"
   ]
  },
  {
   "cell_type": "code",
   "execution_count": 23,
   "id": "08b891af",
   "metadata": {},
   "outputs": [
    {
     "name": "stdout",
     "output_type": "stream",
     "text": [
      "n_estimators = 13\n",
      "\n",
      "Model Report\n",
      "Accuracy : 0.7638\n",
      "AUC Score (Train): 0.871144\n",
      "balanced_accuracy_score : 0.7919\n",
      "f1_score: 0.655806\n"
     ]
    }
   ],
   "source": [
    "xgb2 = xgb.XGBClassifier(use_label_encoder=False, verbosity = 0, silent=True,\n",
    "                              objective= 'binary:logistic',\n",
    "        eval_metric='auc',        \n",
    "        seed=27,\n",
    "        n_estimators = 1000,                              \n",
    "        max_depth = md,\n",
    "        min_child_weight = mcw,\n",
    "        scale_pos_weight=spw,\n",
    "        gamma = gm,\n",
    "        subsample = sbs,\n",
    "        colsample_bytree = cb,\n",
    "                        )\n",
    "\n",
    "n_est2 = modelfit(xgb2, X_train, y_train, X_test, y_test)"
   ]
  },
  {
   "cell_type": "code",
   "execution_count": 24,
   "id": "1e9b62e8",
   "metadata": {},
   "outputs": [
    {
     "data": {
      "text/plain": [
       "13"
      ]
     },
     "execution_count": 24,
     "metadata": {},
     "output_type": "execute_result"
    }
   ],
   "source": [
    "n_est2"
   ]
  },
  {
   "cell_type": "code",
   "execution_count": null,
   "id": "b00574ed",
   "metadata": {},
   "outputs": [],
   "source": []
  },
  {
   "cell_type": "code",
   "execution_count": 27,
   "id": "fe9cd90c",
   "metadata": {},
   "outputs": [
    {
     "data": {
      "text/plain": [
       "({'reg_alpha': 0}, 0.7675047416929364)"
      ]
     },
     "execution_count": 27,
     "metadata": {},
     "output_type": "execute_result"
    }
   ],
   "source": [
    "param_test5 = {\n",
    "    'reg_alpha':[0, 1e-6, 1e-5, 1e-2, 0.1, 1, 100]\n",
    "}\n",
    "\n",
    "estimator = xgb.XGBClassifier(use_label_encoder=False, verbosity = 0, silent=True,\n",
    "                              objective= 'binary:logistic',\n",
    "        eval_metric='auc',        \n",
    "        seed=27,\n",
    "        n_estimators = n_est,                              \n",
    "        max_depth = md,\n",
    "        min_child_weight = mcw,\n",
    "        scale_pos_weight=spw,\n",
    "        gamma = gm,\n",
    "        subsample = sbs,\n",
    "        colsample_bytree = cb,\n",
    ")\n",
    "\n",
    "\n",
    "gsearch5 = GridSearchCV(estimator = estimator, \n",
    "                       param_grid = param_test5, \n",
    "                        scoring='balanced_accuracy', cv=5)\n",
    "gsearch5.fit(X_train, y_train)\n",
    "\n",
    "\n",
    "gsearch5.best_params_, gsearch5.best_score_"
   ]
  },
  {
   "cell_type": "code",
   "execution_count": 30,
   "id": "07f36078",
   "metadata": {},
   "outputs": [],
   "source": [
    "ra = 0"
   ]
  },
  {
   "cell_type": "code",
   "execution_count": 30,
   "id": "2dafc6f9",
   "metadata": {},
   "outputs": [
    {
     "data": {
      "text/plain": [
       "({'reg_alpha': 0.15}, 0.7690191435979602)"
      ]
     },
     "execution_count": 30,
     "metadata": {},
     "output_type": "execute_result"
    }
   ],
   "source": [
    "param_test5b = {\n",
    "    'reg_alpha':[0.15, 0.16, 0.17, 0.18, 0.19]\n",
    "}\n",
    "\n",
    "estimator = xgb.XGBClassifier(use_label_encoder=False, verbosity = 0, silent=True,\n",
    "                              objective= 'binary:logistic',\n",
    "        eval_metric='auc',        \n",
    "        seed=27,\n",
    "        n_estimators = n_est,                              \n",
    "        max_depth = md,\n",
    "        min_child_weight = mcw,\n",
    "        scale_pos_weight=spw,\n",
    "        gamma = gm,\n",
    "        subsample = sbs,\n",
    "        colsample_bytree = cb,\n",
    ")\n",
    "\n",
    "\n",
    "gsearch5b = GridSearchCV(estimator = estimator, \n",
    "                       param_grid = param_test5b, \n",
    "                        scoring='balanced_accuracy', cv=5)\n",
    "gsearch5b.fit(X_train, y_train)\n",
    "\n",
    "\n",
    "gsearch5b.best_params_, gsearch5b.best_score_"
   ]
  },
  {
   "cell_type": "code",
   "execution_count": 31,
   "id": "48b7cf36",
   "metadata": {},
   "outputs": [],
   "source": [
    "ra = 0.15"
   ]
  },
  {
   "cell_type": "code",
   "execution_count": 32,
   "id": "220af241",
   "metadata": {},
   "outputs": [
    {
     "data": {
      "text/plain": [
       "({'reg_lambda': 1}, 0.7690191435979602)"
      ]
     },
     "execution_count": 32,
     "metadata": {},
     "output_type": "execute_result"
    }
   ],
   "source": [
    "param_test6 = {\n",
    "    'reg_lambda':[0, 1e-2, 0.1, 1, 2, 5, 10, 100]\n",
    "}\n",
    "\n",
    "estimator = xgb.XGBClassifier(use_label_encoder=False, verbosity = 0, silent=True,\n",
    "                              objective= 'binary:logistic',\n",
    "        eval_metric='auc',        \n",
    "        seed=27,\n",
    "        n_estimators = n_est,                              \n",
    "        max_depth = md,\n",
    "        min_child_weight = mcw,\n",
    "        scale_pos_weight=spw,\n",
    "        gamma = gm,\n",
    "        subsample = sbs,\n",
    "        colsample_bytree = cb,\n",
    "        reg_alpha = ra,\n",
    ")\n",
    "\n",
    "\n",
    "gsearch6 = GridSearchCV(estimator = estimator, \n",
    "                        \n",
    "                       param_grid = param_test6, \n",
    "                        scoring='balanced_accuracy', cv=5)\n",
    "gsearch6.fit(X_train, y_train)\n",
    "\n",
    "\n",
    "gsearch6.best_params_, gsearch6.best_score_"
   ]
  },
  {
   "cell_type": "code",
   "execution_count": 33,
   "id": "6ac487c6",
   "metadata": {},
   "outputs": [
    {
     "data": {
      "text/plain": [
       "({'reg_lambda': 0.9}, 0.7692352166728994)"
      ]
     },
     "execution_count": 33,
     "metadata": {},
     "output_type": "execute_result"
    }
   ],
   "source": [
    "param_test6b = {\n",
    "    'reg_lambda':[i/10 for i in range(5,21)]\n",
    "}\n",
    "\n",
    "estimator = xgb.XGBClassifier(use_label_encoder=False, verbosity = 0, silent=True,\n",
    "                              objective= 'binary:logistic',\n",
    "        eval_metric='auc',        \n",
    "        seed=27,\n",
    "        n_estimators = n_est,                              \n",
    "        max_depth = md,\n",
    "        min_child_weight = mcw,\n",
    "        scale_pos_weight=spw,\n",
    "        gamma = gm,\n",
    "        subsample = sbs,\n",
    "        colsample_bytree = cb,\n",
    "        reg_alpha = ra,\n",
    ")\n",
    "\n",
    "\n",
    "gsearch6b = GridSearchCV(estimator = estimator, \n",
    "                        \n",
    "                       param_grid = param_test6b, \n",
    "                        scoring='balanced_accuracy', cv=5)\n",
    "gsearch6b.fit(X_train, y_train)\n",
    "\n",
    "\n",
    "gsearch6b.best_params_, gsearch6b.best_score_"
   ]
  },
  {
   "cell_type": "code",
   "execution_count": 34,
   "id": "0d6e8261",
   "metadata": {},
   "outputs": [],
   "source": [
    "rl = 0.9"
   ]
  },
  {
   "cell_type": "code",
   "execution_count": 35,
   "id": "d9a0cb0c",
   "metadata": {},
   "outputs": [
    {
     "name": "stdout",
     "output_type": "stream",
     "text": [
      "n_estimators = 13\n",
      "\n",
      "Model Report\n",
      "Accuracy : 0.7636\n",
      "AUC Score (Train): 0.870900\n",
      "balanced_accuracy_score : 0.7909\n",
      "f1_score: 0.654922\n"
     ]
    }
   ],
   "source": [
    "xgb3 = xgb.XGBClassifier(use_label_encoder=False, verbosity = 0, silent=True,\n",
    "                              objective= 'binary:logistic',\n",
    "        eval_metric='auc',        \n",
    "        seed=27,\n",
    "        n_estimators = 1000,                              \n",
    "        max_depth = md,\n",
    "        min_child_weight = mcw,\n",
    "        scale_pos_weight=spw,\n",
    "        gamma = gm,\n",
    "        subsample = sbs,\n",
    "        colsample_bytree = cb,\n",
    "        reg_alpha = ra,\n",
    "        reg_lambda = rl\n",
    "                        )\n",
    "\n",
    "n_est3 = modelfit(xgb3, X_train, y_train, X_test, y_test)"
   ]
  },
  {
   "cell_type": "code",
   "execution_count": null,
   "id": "800c6220",
   "metadata": {},
   "outputs": [],
   "source": []
  },
  {
   "cell_type": "code",
   "execution_count": 36,
   "id": "e8710efe",
   "metadata": {},
   "outputs": [
    {
     "name": "stdout",
     "output_type": "stream",
     "text": [
      "n_estimators = 53\n",
      "\n",
      "Model Report\n",
      "Accuracy : 0.7199\n",
      "AUC Score (Train): 0.865792\n",
      "balanced_accuracy_score : 0.7744\n",
      "f1_score: 0.626774\n"
     ]
    }
   ],
   "source": [
    "xgb4 = xgb.XGBClassifier(se_label_encoder=False, verbosity = 0, silent=True,\n",
    "                              objective= 'binary:logistic',\n",
    "        eval_metric='aucpr',        \n",
    "        seed=27,\n",
    "        n_estimators = 1000,                              \n",
    "        max_depth = md,\n",
    "        min_child_weight = mcw,\n",
    "        scale_pos_weight=spw,\n",
    "        gamma = gm,\n",
    "        subsample = sbs,\n",
    "        colsample_bytree = cb,\n",
    "        reg_alpha = ra,\n",
    "        reg_lambda = rl,\n",
    "        learning_rate =0.1,                )\n",
    "\n",
    "n_est4 = modelfit(xgb4, X_train, y_train, X_test, y_test)"
   ]
  },
  {
   "cell_type": "code",
   "execution_count": null,
   "id": "3c009434",
   "metadata": {},
   "outputs": [],
   "source": []
  },
  {
   "cell_type": "code",
   "execution_count": 36,
   "id": "9347e4ca",
   "metadata": {},
   "outputs": [
    {
     "name": "stdout",
     "output_type": "stream",
     "text": [
      "Train:\n",
      "acc = 0.7635782747603834, bal_acc = 0.7320767218250251\n",
      "              precision    recall  f1-score   support\n",
      "\n",
      "           0       0.73      0.93      0.82      3263\n",
      "           1       0.85      0.53      0.65      2371\n",
      "\n",
      "    accuracy                           0.76      5634\n",
      "   macro avg       0.79      0.73      0.74      5634\n",
      "weighted avg       0.78      0.76      0.75      5634\n",
      "\n",
      "Test:\n",
      "acc = 0.7423704755145494, bal_acc = 0.7738223108792389\n",
      "              precision    recall  f1-score   support\n",
      "\n",
      "           0       0.92      0.71      0.80      1029\n",
      "           1       0.51      0.84      0.64       380\n",
      "\n",
      "    accuracy                           0.74      1409\n",
      "   macro avg       0.72      0.77      0.72      1409\n",
      "weighted avg       0.81      0.74      0.76      1409\n",
      "\n",
      "All:\n",
      "acc = 0.7593355104358938, bal_acc = 0.7874978051139758\n",
      "              precision    recall  f1-score   support\n",
      "\n",
      "           0       0.93      0.73      0.82      5174\n",
      "           1       0.53      0.85      0.65      1869\n",
      "\n",
      "    accuracy                           0.76      7043\n",
      "   macro avg       0.73      0.79      0.73      7043\n",
      "weighted avg       0.82      0.76      0.77      7043\n",
      "\n"
     ]
    }
   ],
   "source": [
    "xg_reg = xgb.XGBClassifier(use_label_encoder=False, verbosity = 0, silent=True,\n",
    "                              objective= 'binary:logistic',\n",
    "        eval_metric='auc',        \n",
    "        seed=27,\n",
    "        n_estimators = 13,                              \n",
    "        max_depth = md,\n",
    "        min_child_weight = mcw,\n",
    "        scale_pos_weight=spw,\n",
    "        gamma = gm,\n",
    "        subsample = sbs,\n",
    "        colsample_bytree = cb,\n",
    "        reg_alpha = ra,\n",
    "        reg_lambda = rl\n",
    ")\n",
    "\n",
    "\n",
    "clf =  xg_reg\n",
    "\n",
    "clf.fit(X_train, y_train)\n",
    "\n",
    "\n",
    "X_train_pred = clf.predict(X_train)\n",
    "\n",
    "print('Train:')\n",
    "acc, b_acc = accuracy_score(X_train_pred, y_train), balanced_accuracy_score(X_train_pred, y_train)\n",
    "print (f\"acc = {acc}, bal_acc = {b_acc}\")\n",
    "print(classification_report(X_train_pred, y_train))\n",
    "\n",
    "\n",
    "y_pred = clf.predict(X_test)\n",
    "\n",
    "print('Test:')\n",
    "acc, b_acc = accuracy_score(y_test, y_pred), balanced_accuracy_score(y_test, y_pred)\n",
    "print (f\"acc = {acc}, bal_acc = {b_acc}\")\n",
    "print(classification_report(y_test, y_pred))\n",
    "\n",
    "all_pred = clf.predict(data)\n",
    "\n",
    "print('All:')\n",
    "acc, b_acc = accuracy_score(target, all_pred), balanced_accuracy_score(target, all_pred)\n",
    "print (f\"acc = {acc}, bal_acc = {b_acc}\")\n",
    "print(classification_report(target, all_pred))"
   ]
  },
  {
   "cell_type": "code",
   "execution_count": 47,
   "id": "e2198b9a",
   "metadata": {},
   "outputs": [
    {
     "data": {
      "text/plain": [
       "<Figure size 640x480 with 0 Axes>"
      ]
     },
     "metadata": {},
     "output_type": "display_data"
    },
    {
     "data": {
      "image/png": "[encoded data removed]",
      "text/plain": [
       "<Figure size 640x480 with 1 Axes>"
      ]
     },
     "metadata": {},
     "output_type": "display_data"
    }
   ],
   "source": [
    "xgb.plot_importance(xg_reg, max_num_features = 20)\n",
    "plt.show()\n",
    "plt.tight_layout()"
   ]
  },
  {
   "cell_type": "code",
   "execution_count": 45,
   "id": "cb4abc85",
   "metadata": {},
   "outputs": [
    {
     "data": {
      "text/plain": [
       "<Figure size 640x480 with 0 Axes>"
      ]
     },
     "metadata": {},
     "output_type": "display_data"
    },
    {
     "data": {
      "image/png": "[encoded data removed]",
      "text/plain": [
       "<Figure size 640x480 with 1 Axes>"
      ]
     },
     "metadata": {},
     "output_type": "display_data"
    }
   ],
   "source": [
    "roc_curve = RocCurveDisplay.from_estimator(xg_reg, X_test, y_test)\n",
    "plt.show()\n",
    "plt.tight_layout()"
   ]
  },
  {
   "cell_type": "code",
   "execution_count": 46,
   "id": "b8e46367",
   "metadata": {},
   "outputs": [
    {
     "data": {
      "text/plain": [
       "<Figure size 640x480 with 0 Axes>"
      ]
     },
     "metadata": {},
     "output_type": "display_data"
    },
    {
     "data": {
      "image/png": "[encoded data removed]",
      "text/plain": [
       "<Figure size 640x480 with 1 Axes>"
      ]
     },
     "metadata": {},
     "output_type": "display_data"
    }
   ],
   "source": [
    "pr_curve = PrecisionRecallDisplay.from_estimator(xg_reg, X_test, y_test)\n",
    "plt.show()\n",
    "plt.tight_layout()"
   ]
  }
 ],
 "metadata": {
  "kernelspec": {
   "display_name": "Python 3",
   "language": "python",
   "name": "python3"
  },
  "language_info": {
   "codemirror_mode": {
    "name": "ipython",
    "version": 3
   },
   "file_extension": ".py",
   "mimetype": "text/x-python",
   "name": "python",
   "nbconvert_exporter": "python",
   "pygments_lexer": "ipython3",
   "version": "3.9.6"
  }
 },
 "nbformat": 4,
 "nbformat_minor": 5
}
